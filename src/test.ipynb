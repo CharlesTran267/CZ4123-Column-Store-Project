{
 "cells": [
  {
   "cell_type": "code",
   "execution_count": 2,
   "metadata": {},
   "outputs": [],
   "source": [
    "import pandas as pd\n",
    "\n",
    "df = pd.read_csv('../data/ResalePricesSingapore_sorted.csv')"
   ]
  },
  {
   "cell_type": "code",
   "execution_count": null,
   "metadata": {},
   "outputs": [],
   "source": [
    "def get_month_year_town(matric_num: str):\n",
    "        \"\"\"Convert matric digits to month, year and town\"\"\"\n",
    "        year = int(matric_num[-2])\n",
    "        commence_month = int(matric_num[-3])\n",
    "        town = int(matric_num[-4])\n",
    "        if commence_month >=10 or year >= 10 or town >= 10:\n",
    "            raise ValueError('Invalid values for month, year or town')\n",
    "        \n",
    "        if commence_month == 0:\n",
    "            commence_month_str = '10'\n",
    "            end_month_str = '12'\n",
    "        else:\n",
    "            commence_month_str = f'0{commence_month}'\n",
    "            if commence_month >= 8:\n",
    "                end_month_str = str(commence_month+2)\n",
    "            else:\n",
    "                end_month_str = f'0{commence_month+2}'\n",
    "            \n",
    "        \n",
    "        if year<4:\n",
    "            year_str = f'202{year}'\n",
    "        else:\n",
    "            year_str = f'201{year}'\n",
    "\n",
    "        town_str = MAPPER['town'][str(town)]\n",
    "\n",
    "        return f'{year_str}-{commence_month_str}', f'{year_str}-{end_month_str}', town_str"
   ]
  },
  {
   "cell_type": "code",
   "execution_count": 2,
   "metadata": {},
   "outputs": [
    {
     "ename": "NameError",
     "evalue": "name 'df' is not defined",
     "output_type": "error",
     "traceback": [
      "\u001b[0;31m---------------------------------------------------------------------------\u001b[0m",
      "\u001b[0;31mNameError\u001b[0m                                 Traceback (most recent call last)",
      "Cell \u001b[0;32mIn[2], line 5\u001b[0m\n\u001b[1;32m      2\u001b[0m end_month \u001b[38;5;241m=\u001b[39m \u001b[38;5;124m'\u001b[39m\u001b[38;5;124m2021-06\u001b[39m\u001b[38;5;124m'\u001b[39m\n\u001b[1;32m      3\u001b[0m town \u001b[38;5;241m=\u001b[39m \u001b[38;5;124m'\u001b[39m\u001b[38;5;124mCHOA CHU KANG\u001b[39m\u001b[38;5;124m'\u001b[39m\n\u001b[0;32m----> 5\u001b[0m df \u001b[38;5;241m=\u001b[39m \u001b[43mdf\u001b[49m[(df[\u001b[38;5;124m'\u001b[39m\u001b[38;5;124mmonth\u001b[39m\u001b[38;5;124m'\u001b[39m] \u001b[38;5;241m>\u001b[39m\u001b[38;5;241m=\u001b[39m commence_month) \u001b[38;5;241m&\u001b[39m (df[\u001b[38;5;124m'\u001b[39m\u001b[38;5;124mmonth\u001b[39m\u001b[38;5;124m'\u001b[39m] \u001b[38;5;241m<\u001b[39m\u001b[38;5;241m=\u001b[39m end_month)]\n\u001b[1;32m      6\u001b[0m df \u001b[38;5;241m=\u001b[39m df[df[\u001b[38;5;124m'\u001b[39m\u001b[38;5;124mtown\u001b[39m\u001b[38;5;124m'\u001b[39m] \u001b[38;5;241m==\u001b[39m town]\n\u001b[1;32m      7\u001b[0m df\n",
      "\u001b[0;31mNameError\u001b[0m: name 'df' is not defined"
     ]
    }
   ],
   "source": [
    "commence_month = '2021-04'\n",
    "end_month = '2021-06'\n",
    "town = 'CHOA CHU KANG'\n",
    "\n",
    "df = df[(df['month'] >= commence_month) & (df['month'] <= end_month)]\n",
    "df = df[df['town'] == town]\n",
    "df"
   ]
  },
  {
   "cell_type": "code",
   "execution_count": 3,
   "metadata": {},
   "outputs": [
    {
     "ename": "NameError",
     "evalue": "name 'df' is not defined",
     "output_type": "error",
     "traceback": [
      "\u001b[0;31m---------------------------------------------------------------------------\u001b[0m",
      "\u001b[0;31mNameError\u001b[0m                                 Traceback (most recent call last)",
      "Cell \u001b[0;32mIn[3], line 1\u001b[0m\n\u001b[0;32m----> 1\u001b[0m min_price \u001b[38;5;241m=\u001b[39m \u001b[43mdf\u001b[49m[\u001b[38;5;124m'\u001b[39m\u001b[38;5;124mresale_price\u001b[39m\u001b[38;5;124m'\u001b[39m]\u001b[38;5;241m.\u001b[39mmin()\n\u001b[1;32m      2\u001b[0m avg_price \u001b[38;5;241m=\u001b[39m df[\u001b[38;5;124m'\u001b[39m\u001b[38;5;124mresale_price\u001b[39m\u001b[38;5;124m'\u001b[39m]\u001b[38;5;241m.\u001b[39mmean()\n\u001b[1;32m      3\u001b[0m std_price \u001b[38;5;241m=\u001b[39m df[\u001b[38;5;124m'\u001b[39m\u001b[38;5;124mresale_price\u001b[39m\u001b[38;5;124m'\u001b[39m]\u001b[38;5;241m.\u001b[39mstd()\n",
      "\u001b[0;31mNameError\u001b[0m: name 'df' is not defined"
     ]
    }
   ],
   "source": [
    "min_price = df['resale_price'].min()\n",
    "avg_price = df['resale_price'].mean()\n",
    "std_price = df['resale_price'].std()\n",
    "\n",
    "min_area = df['floor_area_sqm'].min()\n",
    "avg_area = df['floor_area_sqm'].mean()\n",
    "std_area = df['floor_area_sqm'].std()\n",
    "\n",
    "print(f\"Minimum resale price: ${min_price}\")\n",
    "print(f\"Average resale price: ${avg_price:.2f}\")\n",
    "print(f\"Standard deviation of resale price: ${std_price:.2f}\")\n",
    "print(f\"Minimum floor area: {min_area} sqm\")\n",
    "print(f\"Average floor area: {avg_area:.2f} sqm\")\n",
    "print(f\"Standard deviation of floor area: {std_area:.2f} sqm\")"
   ]
  },
  {
   "cell_type": "code",
   "execution_count": null,
   "metadata": {},
   "outputs": [],
   "source": []
  },
  {
   "cell_type": "code",
   "execution_count": null,
   "metadata": {},
   "outputs": [],
   "source": []
  }
 ],
 "metadata": {
  "kernelspec": {
   "display_name": ".venv",
   "language": "python",
   "name": "python3"
  },
  "language_info": {
   "codemirror_mode": {
    "name": "ipython",
    "version": 3
   },
   "file_extension": ".py",
   "mimetype": "text/x-python",
   "name": "python",
   "nbconvert_exporter": "python",
   "pygments_lexer": "ipython3",
   "version": "3.8.19"
  }
 },
 "nbformat": 4,
 "nbformat_minor": 2
}
